{
 "cells": [
  {
   "cell_type": "code",
   "execution_count": null,
   "id": "e4109d9e",
   "metadata": {},
   "outputs": [],
   "source": [
    "exec(open(\"runner.py\").read())"
   ]
  }
 ],
 "metadata": {},
 "nbformat": 4,
 "nbformat_minor": 5
}
